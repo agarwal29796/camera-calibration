{
 "cells": [
  {
   "cell_type": "code",
   "execution_count": 1,
   "metadata": {
    "collapsed": true
   },
   "outputs": [],
   "source": [
    "import numpy as np\n",
    "import cv2\n",
    "import glob"
   ]
  },
  {
   "cell_type": "code",
   "execution_count": 2,
   "metadata": {
    "collapsed": true
   },
   "outputs": [],
   "source": [
    "img  = cv2.imread('abc.jpg')\n",
    "img = cv2.resize(img, (0,0),fx = 0.1 , fy = 0.1)\n",
    "gray = cv2.cvtColor(img , cv2.COLOR_BGR2GRAY)\n",
    "gray = np.float32(gray)\n",
    "# cv2.imshow('img' , gray)\n",
    "# cv2.waitKey()\n",
    "# cv2.destroyAllWindows()"
   ]
  },
  {
   "cell_type": "code",
   "execution_count": 3,
   "metadata": {
    "collapsed": false
   },
   "outputs": [
    {
     "name": "stdout",
     "output_type": "stream",
     "text": [
      "[[ 3.9740371e+03  3.9740371e+03  4.8262671e+03 ...  1.6875303e+04\n",
      "   1.5885392e+04  1.5885392e+04]\n",
      " [ 4.3255083e+03  4.3255083e+03  5.0044800e+03 ...  2.6923391e+04\n",
      "   2.6923391e+04  2.6923391e+04]\n",
      " [ 4.3255083e+03  4.3255083e+03  6.3744443e+03 ...  5.0426539e+04\n",
      "   5.0426539e+04  4.3540844e+04]\n",
      " ...\n",
      " [-7.0315552e+08 -7.0315552e+08 -7.0315552e+08 ...  1.6195175e+05\n",
      "   1.6195175e+05  1.4516291e+05]\n",
      " [-7.0315552e+08 -7.0315552e+08 -7.0315552e+08 ...  1.6195175e+05\n",
      "   1.6195175e+05  1.4516291e+05]\n",
      " [-1.0441891e+09 -1.0441891e+09 -1.0441891e+09 ...  1.3072872e+05\n",
      "   1.3072872e+05  1.2349580e+05]]\n",
      "[[ 22  10]\n",
      " [ 22  11]\n",
      " [ 22  12]\n",
      " ...\n",
      " [364 446]\n",
      " [364 447]\n",
      " [364 448]]\n"
     ]
    }
   ],
   "source": [
    "# ret ,corners = cv2.findChessboardCorners(img,(3,3) , None)\n",
    "temp = img\n",
    "dst = cv2.cornerHarris(gray,6,7,0.04)\n",
    "dst =cv2.dilate(dst,None)\n",
    "print(dst)\n",
    "# print(temp.shape)\n",
    "# temp[dst > 0.07*dst.max()] = [0,0,255]\n",
    "dst1 = np.array([dst > 0.07*dst.max()]).reshape(dst.shape)\n",
    "dst1 = np.argwhere(dst1)\n",
    "print(dst1)\n",
    "# cv2.imshow('dst', temp)\n",
    "# cv2.waitKey(0)\n",
    "# cv2.destroyAllWindows()\n",
    "# print(ret,corners)"
   ]
  },
  {
   "cell_type": "code",
   "execution_count": 4,
   "metadata": {
    "collapsed": false
   },
   "outputs": [
    {
     "name": "stdout",
     "output_type": "stream",
     "text": [
      "(5080, 2)\n"
     ]
    }
   ],
   "source": [
    "print(dst1.shape)"
   ]
  },
  {
   "cell_type": "code",
   "execution_count": 5,
   "metadata": {
    "collapsed": true
   },
   "outputs": [],
   "source": [
    "import math\n",
    "def euclid(a, b):\n",
    "    return math.sqrt((a[0]-b[0])*(a[0]-b[0]) + (a[1]-b[1])*(a[1]-b[1]))"
   ]
  },
  {
   "cell_type": "code",
   "execution_count": 6,
   "metadata": {
    "collapsed": true
   },
   "outputs": [],
   "source": [
    "ppt = [list(dst1[0])]\n",
    "thres = 50\n",
    "latest = dst1[0]\n",
    "for i in range(1,dst1.shape[0]):\n",
    "    if(euclid(latest,dst1[i])) > thres:\n",
    "        ppt.append(dst1[i])\n",
    "        latest = dst1[i]\n",
    "\n",
    "# print(ppt)\n",
    "    "
   ]
  },
  {
   "cell_type": "code",
   "execution_count": 7,
   "metadata": {
    "collapsed": false,
    "scrolled": false
   },
   "outputs": [
    {
     "name": "stdout",
     "output_type": "stream",
     "text": [
      "[[22, 10], array([26, 86]), array([ 30, 162]), array([ 35, 240]), array([ 40, 321]), array([ 44, 404]), array([ 50, 487]), array([99, 16]), array([104,  90]), array([109, 166]), array([115, 241]), array([121, 319]), array([126, 401]), array([133, 483]), array([207,  61]), array([213, 137]), array([220, 217]), array([227, 297]), array([234, 381]), array([242,  25]), array([242, 467]), array([278,  78]), array([287, 161]), array([296, 257]), array([305, 350]), array([313, 448]), array([319,  48])]\n"
     ]
    }
   ],
   "source": [
    "ppt1 = [ppt[0]]\n",
    "for i in range(1,len(ppt)):\n",
    "    b = True\n",
    "    for element in ppt1 :\n",
    "        if euclid(element , ppt[i]) <= thres :\n",
    "            b = False\n",
    "    if b == True : ppt1.append(ppt[i])\n",
    "            \n",
    "        \n",
    "print(ppt1)\n",
    "    "
   ]
  },
  {
   "cell_type": "code",
   "execution_count": null,
   "metadata": {
    "collapsed": false,
    "scrolled": true
   },
   "outputs": [],
   "source": [
    "\n",
    "cv2.imshow('img', img)\n",
    "cv2.waitKey()\n",
    "cv2.destroyAllWindows()\n",
    "temp2 = img\n",
    "for pix in ppt1 :\n",
    "    temp2[pix[0],pix[1]] = [0,0,255]\n",
    "cv2.imshow('img', temp2)\n",
    "cv2.waitKey()\n",
    "cv2.destroyAllWindows()"
   ]
  },
  {
   "cell_type": "code",
   "execution_count": null,
   "metadata": {
    "collapsed": true
   },
   "outputs": [],
   "source": [
    "def harris_detector(image_url) :\n",
    "    img  = cv2.imread('abc.jpg')\n",
    "    img = cv2.resize(img, (0,0),fx = 0.1 , fy = 0.1)\n",
    "    gray = cv2.cvtColor(img , cv2.COLOR_BGR2GRAY)\n",
    "    gray = np.float32(gray)\n",
    "    temp = img\n",
    "    dst = cv2.cornerHarris(gray,6,7,0.04)\n",
    "    dst =cv2.dilate(dst,None)\n",
    "    print(dst)\n",
    "    dst1 = np.array([dst > 0.07*dst.max()]).reshape(dst.shape)\n",
    "    dst1 = np.argwhere(dst1)\n",
    "    print(dst1)\n",
    "    ppt = [list(dst1[0])]\n",
    "    thres = 50\n",
    "    latest = dst1[0]\n",
    "    for i in range(1,dst1.shape[0]):\n",
    "        if(euclid(latest,dst1[i])) > thres:\n",
    "            ppt.append(dst1[i])\n",
    "            latest = dst1[i]\n",
    "    \n",
    "    temp2 = img\n",
    "    for pix in ppt1 :\n",
    "        temp2[pix[0],pix[1]] = [0,0,255]\n",
    "    cv2.imshow('img', temp2)\n",
    "    cv2.waitKey()\n",
    "    cv2.destroyAllWindows()\n",
    "    \n",
    "\n",
    "    "
   ]
  },
  {
   "cell_type": "code",
   "execution_count": null,
   "metadata": {
    "collapsed": true
   },
   "outputs": [],
   "source": [
    "haris_detector()"
   ]
  },
  {
   "cell_type": "code",
   "execution_count": null,
   "metadata": {
    "collapsed": true
   },
   "outputs": [],
   "source": []
  }
 ],
 "metadata": {
  "anaconda-cloud": {},
  "kernelspec": {
   "display_name": "Python [default]",
   "language": "python",
   "name": "python2"
  },
  "language_info": {
   "codemirror_mode": {
    "name": "ipython",
    "version": 2
   },
   "file_extension": ".py",
   "mimetype": "text/x-python",
   "name": "python",
   "nbconvert_exporter": "python",
   "pygments_lexer": "ipython2",
   "version": "2.7.12"
  }
 },
 "nbformat": 4,
 "nbformat_minor": 1
}
